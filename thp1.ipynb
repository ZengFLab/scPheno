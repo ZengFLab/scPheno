{
 "cells": [
  {
   "cell_type": "code",
   "execution_count": 23,
   "metadata": {},
   "outputs": [
    {
     "name": "stdout",
     "output_type": "stream",
     "text": [
      "1 epoch: avg losses 65273.4093 0.0000 elapsed 63.4680 seconds\n",
      "2 epoch: avg losses 50306.8177 0.0000 elapsed 62.5909 seconds\n",
      "3 epoch: avg losses 48786.3310 0.0000 elapsed 50.8040 seconds\n",
      "4 epoch: avg losses 47357.1271 0.0000 elapsed 50.7985 seconds\n",
      "5 epoch: avg losses 46773.3366 0.0000 elapsed 50.9866 seconds\n",
      "6 epoch: avg losses 46265.6830 0.0000 elapsed 50.8979 seconds\n",
      "7 epoch: avg losses 45903.2535 0.0000 elapsed 52.9379 seconds\n",
      "8 epoch: avg losses 45501.4156 0.0000 elapsed 50.4241 seconds\n",
      "9 epoch: avg losses 45082.3565 0.0000 elapsed 47.2572 seconds\n",
      "10 epoch: avg losses 44648.2940 0.0000 elapsed 47.1913 seconds\n",
      "11 epoch: avg losses 44147.1599 0.0000 elapsed 47.2296 seconds\n",
      "12 epoch: avg losses 43783.6338 0.0000 elapsed 47.1727 seconds\n",
      "13 epoch: avg losses 43411.2653 0.0000 elapsed 46.9479 seconds\n",
      "14 epoch: avg losses 43071.3333 0.0000 elapsed 48.3768 seconds\n",
      "15 epoch: avg losses 42844.1866 0.0000 elapsed 48.6792 seconds\n",
      "16 epoch: avg losses 42545.7684 0.0000 elapsed 48.3506 seconds\n",
      "17 epoch: avg losses 42172.6188 0.0000 elapsed 48.1007 seconds\n",
      "18 epoch: avg losses 41832.2676 0.0000 elapsed 47.4403 seconds\n",
      "19 epoch: avg losses 41537.0327 0.0000 elapsed 48.5812 seconds\n",
      "20 epoch: avg losses 41273.9939 0.0000 elapsed 48.7714 seconds\n",
      "21 epoch: avg losses 40986.6509 0.0000 elapsed 48.7499 seconds\n",
      "22 epoch: avg losses 40633.5560 0.0000 elapsed 48.4226 seconds\n",
      "23 epoch: avg losses 40374.0753 0.0000 elapsed 50.5083 seconds\n",
      "24 epoch: avg losses 40110.5198 0.0000 elapsed 48.8214 seconds\n",
      "25 epoch: avg losses 39821.8019 0.0000 elapsed 47.7192 seconds\n",
      "26 epoch: avg losses 39498.5446 0.0000 elapsed 47.4292 seconds\n",
      "27 epoch: avg losses 39181.2898 0.0000 elapsed 48.5955 seconds\n",
      "28 epoch: avg losses 38855.3333 0.0000 elapsed 47.3006 seconds\n",
      "29 epoch: avg losses 38479.6898 0.0000 elapsed 47.2272 seconds\n",
      "30 epoch: avg losses 38162.9818 0.0000 elapsed 47.9961 seconds\n",
      "31 epoch: avg losses 37727.0879 0.0000 elapsed 47.4966 seconds\n",
      "32 epoch: avg losses 37359.0690 0.0000 elapsed 47.0415 seconds\n",
      "33 epoch: avg losses 36957.9933 0.0000 elapsed 46.5027 seconds\n",
      "34 epoch: avg losses 36530.2609 0.0000 elapsed 47.3736 seconds\n",
      "35 epoch: avg losses 36113.9696 0.0000 elapsed 46.6231 seconds\n",
      "36 epoch: avg losses 35735.7832 0.0000 elapsed 46.7433 seconds\n",
      "37 epoch: avg losses 35377.9204 0.0000 elapsed 46.5019 seconds\n",
      "38 epoch: avg losses 34970.5519 0.0000 elapsed 47.1112 seconds\n",
      "39 epoch: avg losses 34607.6766 0.0000 elapsed 47.8756 seconds\n",
      "40 epoch: avg losses 34248.8054 0.0000 elapsed 47.9738 seconds\n",
      "41 epoch: avg losses 33907.1501 0.0000 elapsed 48.8374 seconds\n",
      "42 epoch: avg losses 33500.4582 0.0000 elapsed 48.8011 seconds\n",
      "43 epoch: avg losses 33163.4413 0.0000 elapsed 48.6468 seconds\n",
      "44 epoch: avg losses 32872.6924 0.0000 elapsed 47.8659 seconds\n",
      "45 epoch: avg losses 32515.1988 0.0000 elapsed 47.8665 seconds\n",
      "46 epoch: avg losses 32226.9509 0.0000 elapsed 47.9029 seconds\n",
      "47 epoch: avg losses 31930.8359 0.0000 elapsed 47.8120 seconds\n",
      "48 epoch: avg losses 31624.7326 0.0000 elapsed 47.7393 seconds\n",
      "49 epoch: avg losses 31355.0142 0.0000 elapsed 47.6629 seconds\n",
      "50 epoch: avg losses 31070.6910 0.0000 elapsed 47.7033 seconds\n",
      "51 epoch: avg losses 30807.2305 0.0000 elapsed 47.8141 seconds\n",
      "52 epoch: avg losses 30564.0339 0.0000 elapsed 47.0298 seconds\n",
      "53 epoch: avg losses 30319.9748 0.0000 elapsed 46.9927 seconds\n",
      "54 epoch: avg losses 30070.9044 0.0000 elapsed 48.8555 seconds\n",
      "55 epoch: avg losses 29867.7987 0.0000 elapsed 48.4979 seconds\n",
      "56 epoch: avg losses 29673.7458 0.0000 elapsed 47.1888 seconds\n",
      "57 epoch: avg losses 29475.9072 0.0000 elapsed 46.7768 seconds\n",
      "58 epoch: avg losses 29295.0150 0.0000 elapsed 47.1629 seconds\n",
      "59 epoch: avg losses 29141.2915 0.0000 elapsed 48.2374 seconds\n",
      "60 epoch: avg losses 28966.8083 0.0000 elapsed 48.0248 seconds\n",
      "61 epoch: avg losses 28831.1167 0.0000 elapsed 46.9087 seconds\n",
      "62 epoch: avg losses 28644.9358 0.0000 elapsed 47.4026 seconds\n",
      "63 epoch: avg losses 28492.5977 0.0000 elapsed 48.8252 seconds\n",
      "64 epoch: avg losses 28382.1155 0.0000 elapsed 48.6099 seconds\n",
      "65 epoch: avg losses 28248.5202 0.0000 elapsed 46.9099 seconds\n",
      "66 epoch: avg losses 28115.8367 0.0000 elapsed 46.9318 seconds\n",
      "67 epoch: avg losses 28003.1587 0.0000 elapsed 47.0608 seconds\n",
      "68 epoch: avg losses 27871.0948 0.0000 elapsed 47.2802 seconds\n",
      "69 epoch: avg losses 27749.7419 0.0000 elapsed 47.7323 seconds\n",
      "70 epoch: avg losses 27586.0306 0.0000 elapsed 51.9903 seconds\n",
      "71 epoch: avg losses 27419.1925 0.0000 elapsed 48.6144 seconds\n",
      "72 epoch: avg losses 27245.1752 0.0000 elapsed 47.6125 seconds\n",
      "73 epoch: avg losses 27057.3086 0.0000 elapsed 47.0894 seconds\n",
      "74 epoch: avg losses 26844.1034 0.0000 elapsed 47.2621 seconds\n",
      "75 epoch: avg losses 26630.5650 0.0000 elapsed 47.1147 seconds\n",
      "76 epoch: avg losses 26401.1503 0.0000 elapsed 47.3162 seconds\n",
      "77 epoch: avg losses 26174.9366 0.0000 elapsed 47.0983 seconds\n",
      "78 epoch: avg losses 25883.2253 0.0000 elapsed 47.0148 seconds\n",
      "79 epoch: avg losses 25644.8617 0.0000 elapsed 48.0283 seconds\n",
      "80 epoch: avg losses 25376.8309 0.0000 elapsed 48.4910 seconds\n",
      "81 epoch: avg losses 25082.1078 0.0000 elapsed 47.5407 seconds\n",
      "82 epoch: avg losses 24761.1775 0.0000 elapsed 47.8052 seconds\n",
      "83 epoch: avg losses 24471.2166 0.0000 elapsed 47.6248 seconds\n",
      "84 epoch: avg losses 24209.1751 0.0000 elapsed 47.6946 seconds\n",
      "85 epoch: avg losses 23933.2725 0.0000 elapsed 48.0694 seconds\n",
      "86 epoch: avg losses 23676.5671 0.0000 elapsed 47.3210 seconds\n",
      "87 epoch: avg losses 23383.8074 0.0000 elapsed 47.2741 seconds\n",
      "88 epoch: avg losses 23115.1452 0.0000 elapsed 46.6600 seconds\n",
      "89 epoch: avg losses 22855.6253 0.0000 elapsed 46.4900 seconds\n",
      "90 epoch: avg losses 22576.1458 0.0000 elapsed 46.6512 seconds\n",
      "91 epoch: avg losses 22309.0325 0.0000 elapsed 48.4088 seconds\n",
      "92 epoch: avg losses 22023.6657 0.0000 elapsed 47.5661 seconds\n",
      "93 epoch: avg losses 21776.3863 0.0000 elapsed 47.8793 seconds\n",
      "94 epoch: avg losses 21482.4834 0.0000 elapsed 48.7672 seconds\n",
      "95 epoch: avg losses 21223.4911 0.0000 elapsed 46.9657 seconds\n",
      "96 epoch: avg losses 20946.1696 0.0000 elapsed 47.2198 seconds\n",
      "97 epoch: avg losses 20688.9326 0.0000 elapsed 47.1649 seconds\n",
      "98 epoch: avg losses 20408.0923 0.0000 elapsed 47.2590 seconds\n",
      "99 epoch: avg losses 20160.8227 0.0000 elapsed 47.1544 seconds\n",
      "100 epoch: avg losses 19901.2755 0.0000 elapsed 47.4438 seconds\n",
      "best validation accuracy 0.0000\n",
      "F1: 0.0000(macro) 0.0000(weighted) \n",
      "precision 0.0000 recall 0.0000 \n",
      "mcc 0.0000\n"
     ]
    }
   ],
   "source": [
    "%%bash\n",
    "\n",
    "CUDA_VISIBLE_DEVICES=0 python scPheno.py --sup-data-file \"/home/zengbio/Project/scPheno_Ex/Thp1/thp1.mtx\" \\\n",
    "                        --sup-label-file \"/home/zengbio/Project/scPheno_Ex/Thp1/thp1_crispr.txt\" \\\n",
    "                        --sup-condition-file \"/home/zengbio/Project/scPheno_Ex/Thp1/thp1_adt.txt\" \\\n",
    "                        --sup-condition2-file \"/home/zengbio/Project/scPheno_Ex/Thp1/thp1_replicate.txt\" \\\n",
    "                        -lr 0.0001 \\\n",
    "                        -n 100 \\\n",
    "                        -bs 10 \\\n",
    "                        --cuda \\\n",
    "                        -64 \\\n",
    "                        --jit \\\n",
    "                        -zi \\\n",
    "                        -likeli poisson \\\n",
    "                        -dirichlet \\\n",
    "                        -cv 0 \\\n",
    "                        --label-type onehot \\\n",
    "                        --condition-type real \\\n",
    "                        --condition2-type onehot \\\n",
    "                        --save-model thp1.pth"
   ]
  },
  {
   "cell_type": "code",
   "execution_count": 24,
   "metadata": {},
   "outputs": [
    {
     "name": "stderr",
     "output_type": "stream",
     "text": [
      "Intel(R) Extension for Scikit-learn* enabled (https://github.com/intel/scikit-learn-intelex)\n"
     ]
    }
   ],
   "source": [
    "%matplotlib inline\n",
    "import matplotlib.pyplot as plt\n",
    "import time\n",
    "from sklearnex import patch_sklearn\n",
    "patch_sklearn()\n",
    "\n",
    "import numpy as np\n",
    "import pandas as pd\n",
    "from scipy.io import mmread\n",
    "from scipy.stats import entropy\n",
    "from scipy.special import softmax, log_softmax\n",
    "from collections import Counter\n",
    "\n",
    "from scPheno import scPheno\n",
    "from utils.scdata_cached import setup_data_loader, SingleCellCached, transform_label2class, label2class_encoder, transform_class2label\n",
    "\n",
    "import torch\n",
    "import torch.nn.functional as ft\n",
    "from torch.utils.data import DataLoader\n",
    "\n",
    "import pyro.distributions as dist\n",
    "\n",
    "from sklearn.preprocessing import StandardScaler, Normalizer, OneHotEncoder\n",
    "from sklearn.decomposition import PCA\n",
    "from sklearn.svm import SVC\n",
    "from sklearn.neural_network import MLPClassifier\n",
    "from sklearn.ensemble import RandomForestClassifier, GradientBoostingClassifier\n",
    "from sklearn.gaussian_process import GaussianProcessClassifier\n",
    "from sklearn.gaussian_process.kernels import RBF\n",
    "from sklearn.decomposition import NMF\n",
    "from sklearn.inspection import permutation_importance\n",
    "from sklearn.model_selection import train_test_split\n",
    "from sklearn.metrics import accuracy_score, f1_score, ConfusionMatrixDisplay\n",
    "\n",
    "import umap"
   ]
  },
  {
   "cell_type": "code",
   "execution_count": 25,
   "metadata": {},
   "outputs": [],
   "source": [
    "ModelPath = 'thp1.pth'\n",
    "DataPath='/home/zengbio/Project/scPheno_Ex/Thp1/thp1.mtx'\n",
    "LabelPath=None\n",
    "ConditionPath=None\n",
    "ConditionPath2=None\n"
   ]
  },
  {
   "cell_type": "code",
   "execution_count": 26,
   "metadata": {},
   "outputs": [],
   "source": [
    "# load model\n",
    "model = torch.load(ModelPath)\n",
    "\n",
    "batch_size = 1000\n",
    "\n",
    "use_float64 = True\n",
    "use_cuda = True"
   ]
  },
  {
   "cell_type": "code",
   "execution_count": 27,
   "metadata": {},
   "outputs": [],
   "source": [
    "# load data\n",
    "data_cached = SingleCellCached(DataPath, LabelPath, ConditionPath, ConditionPath2, 'condition', use_cuda=False, use_float64 = use_float64)\n",
    "data_loader = DataLoader(data_cached, batch_size = batch_size, shuffle = False)"
   ]
  },
  {
   "cell_type": "code",
   "execution_count": 31,
   "metadata": {},
   "outputs": [],
   "source": [
    "# predict conditions\n",
    "embeds = []\n",
    "exprs = []\n",
    "labels = []\n",
    "# use the appropriate data loader\n",
    "for xs,ys,ks,ks2 in data_loader:\n",
    "    # use classification function to compute all predictions for each batch\n",
    "    if use_cuda:\n",
    "        xs = xs.cuda()\n",
    "\n",
    "    zs = model.latent_embedding(xs)\n",
    "    #expr = model.mutate_condition2_expression(xs, ks2=ks2, ks2_new=ks2_new,use_null_model=True)\n",
    "    expr = model.generate_expression(xs, mute_label=False, mute_condition=True, mute_condition2=True, mute_noise=False, use_gate=True)\n",
    "    #label = model.classifier_state_score(xs)\n",
    "\n",
    "    if use_cuda:\n",
    "        zs = zs.cpu().detach().numpy()\n",
    "        expr = expr.cpu().detach().numpy()\n",
    "        #label = label.cpu().detach().numpy()\n",
    "    else:\n",
    "        zs = zs.detach().numpy()\n",
    "        expr = expr.detach().numpy()\n",
    "        #label = label.detach().numpy()\n",
    "\n",
    "    embeds.append(zs)\n",
    "    exprs.append(expr)\n",
    "    #labels.append(label)\n",
    "\n",
    "\n",
    "embeds = np.concatenate(embeds, axis=0)\n",
    "exprs = np.concatenate(exprs, axis=0)\n",
    "#labels = np.concatenate(labels, axis=0)\n"
   ]
  },
  {
   "cell_type": "code",
   "execution_count": 32,
   "metadata": {},
   "outputs": [
    {
     "data": {
      "text/plain": [
       "(20729, 1)"
      ]
     },
     "execution_count": 32,
     "metadata": {},
     "output_type": "execute_result"
    }
   ],
   "source": [
    "cells = pd.read_csv('/home/zengbio/Project/scPheno_Ex/Thp1/thp1_cells.txt', header=None, index_col=None)\n",
    "genes = pd.read_csv('/home/zengbio/Project/scPheno_Ex/Thp1/thp1_genes.txt', header=None, index_col=None)\n",
    "cells.shape"
   ]
  },
  {
   "cell_type": "code",
   "execution_count": 33,
   "metadata": {},
   "outputs": [],
   "source": [
    "df = pd.DataFrame(exprs, columns=genes[0].values, index=cells[0].values)\n",
    "df.to_csv('/home/zengbio/Project/scPheno_Ex/Thp1/thp1_stim_denoised_expression.txt')"
   ]
  },
  {
   "cell_type": "markdown",
   "metadata": {},
   "source": [
    "df = pd.DataFrame(labels, columns=model.label_names, index=cells[0].values)\n",
    "df.to_csv('/home/zengbio/Project/scPheno_Ex/mouse_develop/mouse_develop_scp_cluster_pred_E6.5.txt', index=None)"
   ]
  }
 ],
 "metadata": {
  "kernelspec": {
   "display_name": "Python 3.9.12 ('pyro')",
   "language": "python",
   "name": "python3"
  },
  "language_info": {
   "codemirror_mode": {
    "name": "ipython",
    "version": 3
   },
   "file_extension": ".py",
   "mimetype": "text/x-python",
   "name": "python",
   "nbconvert_exporter": "python",
   "pygments_lexer": "ipython3",
   "version": "3.9.12"
  },
  "orig_nbformat": 4,
  "vscode": {
   "interpreter": {
    "hash": "705d2180a8d3806c011eeb980cdb14749c2bbbebf661a11693d6315c18f55427"
   }
  }
 },
 "nbformat": 4,
 "nbformat_minor": 2
}
