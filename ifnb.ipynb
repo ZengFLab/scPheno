{
 "cells": [
  {
   "attachments": {},
   "cell_type": "markdown",
   "metadata": {},
   "source": [
    "# Prepare data for scPheno\n",
    "\n",
    "Currently, scPheno only accept gene expression matrix in csv or txt format. We provide a R example showing the preparation of input files for scPheno. We also provide a R example showing how to add the reconstructed expression to a Seurat object."
   ]
  },
  {
   "cell_type": "code",
   "execution_count": null,
   "metadata": {},
   "outputs": [],
   "source": [
    "%%bash\n",
    "\n",
    "CUDA_VISIBLE_DEVICES=0 python scPheno.py --sup-data-file \"/home/zengbio/Project/scPheno_Ex/ifnb_tutorial/ifnb.txt\" \\\n",
    "                        --sup-label-file \"/home/zengbio/Project/scPheno_Ex/ifnb_tutorial/ifnb_celltype.txt\" \\\n",
    "                        --sup-condition-file \"/home/zengbio/Project/scPheno_Ex/ifnb_tutorial/ifnb_cellsubtype.txt\" \\\n",
    "                        --sup-condition2-file \"/home/zengbio/Project/scPheno_Ex/ifnb_tutorial/ifnb_condition.txt\" \\\n",
    "                        -lr 0.0001 \\\n",
    "                        -n 200 \\\n",
    "                        -bs 100 \\\n",
    "                        --cuda \\\n",
    "                        -zi \\\n",
    "                        -likeli negbinomial \\\n",
    "                        -dirichlet \\\n",
    "                        -cv 0 \\\n",
    "                        --label-type categorical \\\n",
    "                        --condition-type categorical \\\n",
    "                        --condition2-type categorical \\\n",
    "                        --save-model ifnb.pth"
   ]
  },
  {
   "cell_type": "code",
   "execution_count": 5,
   "metadata": {},
   "outputs": [
    {
     "data": {
      "text/html": [
       "<style type='text/css'>\n",
       ".datatable table.frame { margin-bottom: 0; }\n",
       ".datatable table.frame thead { border-bottom: none; }\n",
       ".datatable table.frame tr.coltypes td {  color: #FFFFFF;  line-height: 6px;  padding: 0 0.5em;}\n",
       ".datatable .bool    { background: #DDDD99; }\n",
       ".datatable .object  { background: #565656; }\n",
       ".datatable .int     { background: #5D9E5D; }\n",
       ".datatable .float   { background: #4040CC; }\n",
       ".datatable .str     { background: #CC4040; }\n",
       ".datatable .time    { background: #40CC40; }\n",
       ".datatable .row_index {  background: var(--jp-border-color3);  border-right: 1px solid var(--jp-border-color0);  color: var(--jp-ui-font-color3);  font-size: 9px;}\n",
       ".datatable .frame tbody td { text-align: left; }\n",
       ".datatable .frame tr.coltypes .row_index {  background: var(--jp-border-color0);}\n",
       ".datatable th:nth-child(2) { padding-left: 12px; }\n",
       ".datatable .hellipsis {  color: var(--jp-cell-editor-border-color);}\n",
       ".datatable .vellipsis {  background: var(--jp-layout-color0);  color: var(--jp-cell-editor-border-color);}\n",
       ".datatable .na {  color: var(--jp-cell-editor-border-color);  font-size: 80%;}\n",
       ".datatable .sp {  opacity: 0.25;}\n",
       ".datatable .footer { font-size: 9px; }\n",
       ".datatable .frame_dimensions {  background: var(--jp-border-color3);  border-top: 1px solid var(--jp-border-color0);  color: var(--jp-ui-font-color3);  display: inline-block;  opacity: 0.6;  padding: 1px 10px 1px 5px;}\n",
       "</style>\n"
      ],
      "text/plain": [
       "<IPython.core.display.HTML object>"
      ]
     },
     "metadata": {},
     "output_type": "display_data"
    }
   ],
   "source": [
    "import numpy as np\n",
    "import pandas as pd\n",
    "import datatable as dt\n",
    "\n",
    "from scPheno import scPheno\n",
    "from utils.scdata_cached import SingleCellCached\n",
    "\n",
    "import torch\n",
    "from torch.utils.data import DataLoader\n",
    "\n",
    "\n"
   ]
  },
  {
   "cell_type": "code",
   "execution_count": 6,
   "metadata": {},
   "outputs": [],
   "source": [
    "ModelPath = 'ifnb.pth'\n",
    "DataPath='/home/zengbio/Project/scPheno_Ex/ifnb_tutorial/ifnb.txt'\n",
    "LabelPath=None\n",
    "ConditionPath=None\n",
    "ConditionPath2=None\n"
   ]
  },
  {
   "cell_type": "code",
   "execution_count": 7,
   "metadata": {},
   "outputs": [],
   "source": [
    "# load model\n",
    "model = torch.load(ModelPath)\n",
    "\n",
    "batch_size = 10000\n",
    "\n",
    "use_float64 = False\n",
    "use_cuda = True"
   ]
  },
  {
   "cell_type": "code",
   "execution_count": 8,
   "metadata": {},
   "outputs": [],
   "source": [
    "# load data\n",
    "data_cached = SingleCellCached(DataPath, LabelPath, ConditionPath, ConditionPath2, 'condition', use_cuda=False, use_float64 = use_float64)\n",
    "data_loader = DataLoader(data_cached, batch_size = batch_size, shuffle = False)"
   ]
  },
  {
   "cell_type": "code",
   "execution_count": 13,
   "metadata": {},
   "outputs": [],
   "source": [
    "# predict conditions\n",
    "exprs = []\n",
    "# use the appropriate data loader\n",
    "for xs,ys,ks,ks2 in data_loader:\n",
    "    # use classification function to compute all predictions for each batch\n",
    "    if use_cuda:\n",
    "        xs = xs.cuda()\n",
    "\n",
    "    expr = model.generate_expression(xs, mute_label=False, mute_condition=True, mute_condition2=True, mute_noise=True)\n",
    "\n",
    "    if use_cuda:\n",
    "        expr = expr.cpu().detach().numpy()\n",
    "    else:\n",
    "        expr = expr.detach().numpy()\n",
    "\n",
    "    exprs.append(expr)\n",
    "\n",
    "\n",
    "exprs = np.concatenate(exprs, axis=0)\n",
    "\n",
    "exprs = 10 * exprs / exprs.max()\n"
   ]
  },
  {
   "cell_type": "code",
   "execution_count": 14,
   "metadata": {},
   "outputs": [
    {
     "data": {
      "text/plain": [
       "(13999, 1)"
      ]
     },
     "execution_count": 14,
     "metadata": {},
     "output_type": "execute_result"
    }
   ],
   "source": [
    "cells = pd.read_csv('/home/zengbio/Project/scPheno_Ex/ifnb_tutorial/ifnb_cells.txt', header=None, index_col=None)\n",
    "genes = pd.read_csv('/home/zengbio/Project/scPheno_Ex/ifnb_tutorial/ifnb_genes.txt', header=None, index_col=None)\n",
    "cells.shape"
   ]
  },
  {
   "cell_type": "code",
   "execution_count": 15,
   "metadata": {},
   "outputs": [],
   "source": [
    "df = pd.DataFrame(exprs, columns=genes[0].values, index=cells[0].values)\n",
    "dt.Frame(df.reset_index()).to_csv('/home/zengbio/Project/scPheno_Ex/ifnb_tutorial/ifnb_celltype_denoised_expression.txt')"
   ]
  }
 ],
 "metadata": {
  "kernelspec": {
   "display_name": "Python 3.9.12 ('pyro')",
   "language": "python",
   "name": "python3"
  },
  "language_info": {
   "codemirror_mode": {
    "name": "ipython",
    "version": 3
   },
   "file_extension": ".py",
   "mimetype": "text/x-python",
   "name": "python",
   "nbconvert_exporter": "python",
   "pygments_lexer": "ipython3",
   "version": "3.9.12"
  },
  "orig_nbformat": 4,
  "vscode": {
   "interpreter": {
    "hash": "705d2180a8d3806c011eeb980cdb14749c2bbbebf661a11693d6315c18f55427"
   }
  }
 },
 "nbformat": 4,
 "nbformat_minor": 2
}
